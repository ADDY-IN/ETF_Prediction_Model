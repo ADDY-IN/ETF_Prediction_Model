{
 "cells": [
  {
   "cell_type": "code",
   "execution_count": 13,
   "id": "11fe0e1f",
   "metadata": {},
   "outputs": [],
   "source": [
    "import pandas as pd\n",
    "import numpy as np\n",
    "from sklearn.model_selection import train_test_split\n",
    "from sklearn.preprocessing import StandardScaler\n",
    "from sklearn.metrics import classification_report, accuracy_score\n",
    "from imblearn.over_sampling import SMOTE\n",
    "from catboost import CatBoostClassifier\n",
    "import ta\n",
    "import joblib\n"
   ]
  },
  {
   "cell_type": "code",
   "execution_count": null,
   "id": "8c1c9b72",
   "metadata": {},
   "outputs": [],
   "source": [
    "#Load the dataset\n",
    "df = pd.read_csv(\"E:\\\\ETF_Prediction_Model\\\\dataset.txt\")\n",
    "df = df.sort_values(\"Date\").reset_index(drop=True)\n"
   ]
  },
  {
   "cell_type": "code",
   "execution_count": null,
   "id": "1f7dcabc",
   "metadata": {},
   "outputs": [
    {
     "name": "stdout",
     "output_type": "stream",
     "text": [
      "<class 'pandas.core.frame.DataFrame'>\n",
      "RangeIndex: 983 entries, 0 to 982\n",
      "Data columns (total 7 columns):\n",
      " #   Column   Non-Null Count  Dtype  \n",
      "---  ------   --------------  -----  \n",
      " 0   Date     983 non-null    object \n",
      " 1   Open     983 non-null    float64\n",
      " 2   High     983 non-null    float64\n",
      " 3   Low      983 non-null    float64\n",
      " 4   Close    983 non-null    float64\n",
      " 5   Volume   983 non-null    int64  \n",
      " 6   OpenInt  983 non-null    int64  \n",
      "dtypes: float64(4), int64(2), object(1)\n",
      "memory usage: 53.9+ KB\n",
      "None\n",
      "             Open        High         Low       Close        Volume  OpenInt\n",
      "count  983.000000  983.000000  983.000000  983.000000  9.830000e+02    983.0\n",
      "mean    39.419284   39.450038   39.392560   39.417884  1.748969e+04      0.0\n",
      "std      0.375645    0.395290    0.379753    0.374739  2.008278e+05      0.0\n",
      "min     38.938000   38.938000   38.454000   38.938000  1.000000e+02      0.0\n",
      "25%     39.147000   39.177500   39.119500   39.151000  1.015000e+03      0.0\n",
      "50%     39.213000   39.229000   39.178000   39.211000  2.533000e+03      0.0\n",
      "75%     39.728500   39.742000   39.704500   39.720000  6.842000e+03      0.0\n",
      "max     40.290000   42.978000   40.259000   40.300000  4.439117e+06      0.0\n",
      "Date       0\n",
      "Open       0\n",
      "High       0\n",
      "Low        0\n",
      "Close      0\n",
      "Volume     0\n",
      "OpenInt    0\n",
      "dtype: int64\n"
     ]
    },
    {
     "data": {
      "application/vnd.microsoft.datawrangler.viewer.v0+json": {
       "columns": [
        {
         "name": "index",
         "rawType": "int64",
         "type": "integer"
        },
        {
         "name": "Date",
         "rawType": "object",
         "type": "string"
        },
        {
         "name": "Open",
         "rawType": "float64",
         "type": "float"
        },
        {
         "name": "High",
         "rawType": "float64",
         "type": "float"
        },
        {
         "name": "Low",
         "rawType": "float64",
         "type": "float"
        },
        {
         "name": "Close",
         "rawType": "float64",
         "type": "float"
        },
        {
         "name": "Volume",
         "rawType": "int64",
         "type": "integer"
        },
        {
         "name": "OpenInt",
         "rawType": "int64",
         "type": "integer"
        }
       ],
       "ref": "2b89c249-dd8e-420d-985f-5e29ccf582e8",
       "rows": [
        [
         "0",
         "2013-10-17",
         "38.938",
         "38.938",
         "38.938",
         "38.938",
         "20858",
         "0"
        ],
        [
         "1",
         "2013-10-18",
         "39.003",
         "39.003",
         "38.994",
         "38.994",
         "8717",
         "0"
        ],
        [
         "2",
         "2013-10-21",
         "38.938",
         "38.938",
         "38.938",
         "38.938",
         "7732",
         "0"
        ],
        [
         "3",
         "2013-10-22",
         "38.938",
         "38.938",
         "38.938",
         "38.938",
         "1362",
         "0"
        ],
        [
         "4",
         "2013-10-23",
         "38.985",
         "38.994",
         "38.985",
         "38.994",
         "16785",
         "0"
        ]
       ],
       "shape": {
        "columns": 7,
        "rows": 5
       }
      },
      "text/html": [
       "<div>\n",
       "<style scoped>\n",
       "    .dataframe tbody tr th:only-of-type {\n",
       "        vertical-align: middle;\n",
       "    }\n",
       "\n",
       "    .dataframe tbody tr th {\n",
       "        vertical-align: top;\n",
       "    }\n",
       "\n",
       "    .dataframe thead th {\n",
       "        text-align: right;\n",
       "    }\n",
       "</style>\n",
       "<table border=\"1\" class=\"dataframe\">\n",
       "  <thead>\n",
       "    <tr style=\"text-align: right;\">\n",
       "      <th></th>\n",
       "      <th>Date</th>\n",
       "      <th>Open</th>\n",
       "      <th>High</th>\n",
       "      <th>Low</th>\n",
       "      <th>Close</th>\n",
       "      <th>Volume</th>\n",
       "      <th>OpenInt</th>\n",
       "    </tr>\n",
       "  </thead>\n",
       "  <tbody>\n",
       "    <tr>\n",
       "      <th>0</th>\n",
       "      <td>2013-10-17</td>\n",
       "      <td>38.938</td>\n",
       "      <td>38.938</td>\n",
       "      <td>38.938</td>\n",
       "      <td>38.938</td>\n",
       "      <td>20858</td>\n",
       "      <td>0</td>\n",
       "    </tr>\n",
       "    <tr>\n",
       "      <th>1</th>\n",
       "      <td>2013-10-18</td>\n",
       "      <td>39.003</td>\n",
       "      <td>39.003</td>\n",
       "      <td>38.994</td>\n",
       "      <td>38.994</td>\n",
       "      <td>8717</td>\n",
       "      <td>0</td>\n",
       "    </tr>\n",
       "    <tr>\n",
       "      <th>2</th>\n",
       "      <td>2013-10-21</td>\n",
       "      <td>38.938</td>\n",
       "      <td>38.938</td>\n",
       "      <td>38.938</td>\n",
       "      <td>38.938</td>\n",
       "      <td>7732</td>\n",
       "      <td>0</td>\n",
       "    </tr>\n",
       "    <tr>\n",
       "      <th>3</th>\n",
       "      <td>2013-10-22</td>\n",
       "      <td>38.938</td>\n",
       "      <td>38.938</td>\n",
       "      <td>38.938</td>\n",
       "      <td>38.938</td>\n",
       "      <td>1362</td>\n",
       "      <td>0</td>\n",
       "    </tr>\n",
       "    <tr>\n",
       "      <th>4</th>\n",
       "      <td>2013-10-23</td>\n",
       "      <td>38.985</td>\n",
       "      <td>38.994</td>\n",
       "      <td>38.985</td>\n",
       "      <td>38.994</td>\n",
       "      <td>16785</td>\n",
       "      <td>0</td>\n",
       "    </tr>\n",
       "  </tbody>\n",
       "</table>\n",
       "</div>"
      ],
      "text/plain": [
       "         Date    Open    High     Low   Close  Volume  OpenInt\n",
       "0  2013-10-17  38.938  38.938  38.938  38.938   20858        0\n",
       "1  2013-10-18  39.003  39.003  38.994  38.994    8717        0\n",
       "2  2013-10-21  38.938  38.938  38.938  38.938    7732        0\n",
       "3  2013-10-22  38.938  38.938  38.938  38.938    1362        0\n",
       "4  2013-10-23  38.985  38.994  38.985  38.994   16785        0"
      ]
     },
     "execution_count": 15,
     "metadata": {},
     "output_type": "execute_result"
    }
   ],
   "source": [
    "#Basic EDA\n",
    "print(df.info())\n",
    "print(df.describe())\n",
    "print(df.isnull().sum())\n",
    "df.head()# Checking for missing values"
   ]
  },
  {
   "cell_type": "code",
   "execution_count": null,
   "id": "654acdfc",
   "metadata": {},
   "outputs": [],
   "source": [
    "#Feature Engineering\n",
    "from ta.momentum import RSIIndicator\n",
    "from ta.trend import MACD\n",
    "from ta.volatility import BollingerBands\n",
    "\n",
    "df['daily_return'] = df['Close'].pct_change()\n",
    "df['sma_10'] = df['Close'].rolling(10).mean()\n",
    "df['sma_30'] = df['Close'].rolling(30).mean()\n",
    "df['volatility'] = df['daily_return'].rolling(10).std()\n",
    "\n",
    "#RSI\n",
    "df['rsi'] = RSIIndicator(close=df['Close']).rsi()\n",
    "\n",
    "#MACD\n",
    "macd = MACD(close=df['Close'])\n",
    "df['macd_diff'] = macd.macd_diff()\n",
    "\n",
    "#Bollinger Bands\n",
    "bb = BollingerBands(close=df['Close'])\n",
    "df['bb_bbm'] = bb.bollinger_mavg()\n",
    "df['bb_bbh'] = bb.bollinger_hband()\n",
    "df['bb_bbl'] = bb.bollinger_lband()\n"
   ]
  },
  {
   "cell_type": "code",
   "execution_count": null,
   "id": "caadff95",
   "metadata": {},
   "outputs": [],
   "source": [
    "#Target Variable Creation\n",
    "df['target'] = (df['Close'].rolling(3).mean().shift(-3) > df['Close']).astype(int)\n"
   ]
  },
  {
   "cell_type": "code",
   "execution_count": null,
   "id": "0f6d7c64",
   "metadata": {},
   "outputs": [],
   "source": [
    "#Clean Data\n",
    "df = df[df['Volume'] > 1000]\n",
    "df = df[df['Close'] != df['Open']]\n",
    "df.dropna(inplace=True)\n"
   ]
  },
  {
   "cell_type": "code",
   "execution_count": null,
   "id": "dce3193e",
   "metadata": {},
   "outputs": [],
   "source": [
    "#Features & Scaling\n",
    "features = [\n",
    "    'sma_10', 'sma_30', 'daily_return', 'volatility',\n",
    "    'rsi', 'macd_diff', 'bb_bbm', 'bb_bbh', 'bb_bbl'\n",
    "]\n",
    "X = df[features]\n",
    "y = df['target']\n",
    "\n",
    "scaler = StandardScaler()\n",
    "X_scaled = scaler.fit_transform(X)\n"
   ]
  },
  {
   "cell_type": "code",
   "execution_count": null,
   "id": "777e215e",
   "metadata": {},
   "outputs": [],
   "source": [
    "#Apply SMOTE\n",
    "sm = SMOTE(random_state=42)\n",
    "X_resampled, y_resampled = sm.fit_resample(X_scaled, y)\n"
   ]
  },
  {
   "cell_type": "code",
   "execution_count": null,
   "id": "5ec61e65",
   "metadata": {},
   "outputs": [],
   "source": [
    "#Train/Test Split\n",
    "X_train, X_test, y_train, y_test = train_test_split(\n",
    "    X_resampled, y_resampled, test_size=0.2, shuffle=True, random_state=42\n",
    ")\n"
   ]
  },
  {
   "cell_type": "code",
   "execution_count": null,
   "id": "5460c1d9",
   "metadata": {},
   "outputs": [
    {
     "name": "stdout",
     "output_type": "stream",
     "text": [
      "0:\tlearn: 0.6705427\ttotal: 4.77ms\tremaining: 2.38s\n",
      "100:\tlearn: 0.2656639\ttotal: 271ms\tremaining: 1.07s\n",
      "200:\tlearn: 0.1682234\ttotal: 517ms\tremaining: 769ms\n",
      "300:\tlearn: 0.1110154\ttotal: 800ms\tremaining: 529ms\n",
      "400:\tlearn: 0.0742894\ttotal: 1.02s\tremaining: 252ms\n",
      "499:\tlearn: 0.0555980\ttotal: 1.27s\tremaining: 0us\n"
     ]
    },
    {
     "data": {
      "text/plain": [
       "<catboost.core.CatBoostClassifier at 0x1b06364f2b0>"
      ]
     },
     "execution_count": 22,
     "metadata": {},
     "output_type": "execute_result"
    }
   ],
   "source": [
    "#Train CatBoost Model\n",
    "model = CatBoostClassifier(\n",
    "    iterations=500,\n",
    "    learning_rate=0.05,\n",
    "    depth=6,\n",
    "    verbose=100,\n",
    "    random_seed=42\n",
    ")\n",
    "model.fit(X_train, y_train)\n"
   ]
  },
  {
   "cell_type": "code",
   "execution_count": null,
   "id": "bfc3139a",
   "metadata": {},
   "outputs": [
    {
     "name": "stdout",
     "output_type": "stream",
     "text": [
      "Accuracy: 0.8114754098360656\n",
      "              precision    recall  f1-score   support\n",
      "\n",
      "           0       0.88      0.79      0.83        71\n",
      "           1       0.74      0.84      0.79        51\n",
      "\n",
      "    accuracy                           0.81       122\n",
      "   macro avg       0.81      0.82      0.81       122\n",
      "weighted avg       0.82      0.81      0.81       122\n",
      "\n"
     ]
    }
   ],
   "source": [
    "#Evaluation\n",
    "y_pred = model.predict(X_test)\n",
    "\n",
    "print(\"Accuracy:\", accuracy_score(y_test, y_pred))\n",
    "print(classification_report(y_test, y_pred))\n"
   ]
  },
  {
   "cell_type": "code",
   "execution_count": null,
   "id": "926c7e4d",
   "metadata": {},
   "outputs": [
    {
     "data": {
      "text/plain": [
       "['catboost_model.pkl']"
      ]
     },
     "execution_count": 24,
     "metadata": {},
     "output_type": "execute_result"
    }
   ],
   "source": [
    "#Save Model\n",
    "joblib.dump(model, \"catboost_model.pkl\")\n"
   ]
  }
 ],
 "metadata": {
  "kernelspec": {
   "display_name": "venv",
   "language": "python",
   "name": "python3"
  },
  "language_info": {
   "codemirror_mode": {
    "name": "ipython",
    "version": 3
   },
   "file_extension": ".py",
   "mimetype": "text/x-python",
   "name": "python",
   "nbconvert_exporter": "python",
   "pygments_lexer": "ipython3",
   "version": "3.10.9"
  }
 },
 "nbformat": 4,
 "nbformat_minor": 5
}
